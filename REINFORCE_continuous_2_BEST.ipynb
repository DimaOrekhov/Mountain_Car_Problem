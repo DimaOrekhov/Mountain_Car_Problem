{
 "cells": [
  {
   "cell_type": "markdown",
   "metadata": {},
   "source": [
    "# Monte-Carlo policy gradient"
   ]
  },
  {
   "cell_type": "code",
   "execution_count": 1,
   "metadata": {},
   "outputs": [],
   "source": [
    "import torch\n",
    "from torch import nn\n",
    "\n",
    "import numpy as np\n",
    "import gym\n",
    "\n",
    "import matplotlib.pyplot as plt\n",
    "from tqdm import tqdm_notebook\n",
    "import gc\n",
    "import time\n",
    "import matplotlib\n",
    "matplotlib.rcParams.update({'font.size': 16})\n",
    "import random\n",
    "\n",
    "from sklearn.preprocessing import StandardScaler\n",
    "\n",
    "SEED = 33\n",
    "np.random.seed(SEED)\n",
    "torch.manual_seed(SEED)\n",
    "random.seed(SEED)\n",
    "\n",
    "'''\n",
    "Класс для policy сети, можно создать с произвольным числом слоев и нейронов\n",
    "Возвращает параметры нормального распределения, из которого сэмплится действие агента\n",
    "'''\n",
    "\n",
    "class PolicyNet(nn.Module):\n",
    "    \n",
    "    def __init__(self, structure):\n",
    "        super().__init__()\n",
    "        self.arch = nn.ModuleList()\n",
    "        for i in range(len(structure) - 1):\n",
    "            self.arch.add_module(f'linear{i}', nn.Linear(structure[i], structure[i+1]))\n",
    "            if i != (len(structure) - 2):\n",
    "                self.arch.add_module(f'relu{i}', nn.ReLU())\n",
    "        self.mu = nn.Sequential(nn.Linear(structure[-1], 1),\n",
    "                                nn.Tanh())\n",
    "        self.sigma = nn.Sequential(nn.Linear(structure[-1], 1),\n",
    "                                   nn.Softplus())\n",
    "            \n",
    "    def forward(self, x):\n",
    "        for layer in self.arch:\n",
    "            x = layer(x)\n",
    "        return self.mu(x), self.sigma(x)\n",
    "\n",
    "def mod_reward(reward, state, new_state, unseen, unseen_prev): \n",
    "    '''\n",
    "    Функция модификации награды, принимает еще аргументы unseen, видел ли\n",
    "    агент ранее это состояние. Использовал раньше в функции модификации, но\n",
    "    сейчас отказался. Оставил аргументами, чтобы можно было еще поэксперементировать.\n",
    "    '''\n",
    "    addition = GAMMA * (abs(new_state[0, 1])) -\\\n",
    "                        (abs(state[0, 1]))\n",
    "    return reward + REW_MULT * addition\n",
    "    \n",
    "class Agent:\n",
    "    \n",
    "    def __init__(self, structure):\n",
    "        self.policy = PolicyNet(structure)\n",
    "        self.opt = torch.optim.Adam(self.policy.parameters(), ALPHA)\n",
    "        \n",
    "        decay_func = lambda epoch: (N_EPOCHS - epoch)/N_EPOCHS\n",
    "        self.scheduler = torch.optim.lr_scheduler.LambdaLR(self.opt, decay_func)\n",
    "        \n",
    "        self.scaler = StandardScaler()\n",
    "        sample = np.vstack([ENV.observation_space.sample() for i in range(int(1e5))])\n",
    "        self.scaler.fit(sample)\n",
    "        \n",
    "    def act(self, state):\n",
    "        '''\n",
    "        Пропускаем состояние через Policy сеть, получаем параметры нормального распределения\n",
    "        Сэмплим действие и считаем логарифм вероятности данного действия\n",
    "        '''\n",
    "        state = torch.tensor(state).type('torch.FloatTensor')\n",
    "        mu, sigma2 = self.policy(state)\n",
    "        with torch.no_grad():\n",
    "            std = torch.sqrt(sigma2)\n",
    "            action = torch.normal(mean=mu,\n",
    "                                  std=std)\n",
    "        log_prob = - ((mu - action) ** 2)/(2 * sigma2)\n",
    "        log_prob += - torch.log(torch.sqrt(2 * np.pi * sigma2))\n",
    "        action = torch.clamp(action,\n",
    "                             ENV.action_space.low[0],\n",
    "                             ENV.action_space.high[0]).numpy()\n",
    "        return action, log_prob\n",
    "    \n",
    "    def train(self, n_epochs):\n",
    "        self.total_rewards = []\n",
    "        self.total_rewards_ = []\n",
    "        self.fpos = []\n",
    "        max_pos = np.NINF\n",
    "        min_pos = np.Inf\n",
    "        for i in tqdm_notebook(range(n_epochs)):\n",
    "            \n",
    "            if (i%100 == 0):\n",
    "                mean_rew = round(np.mean(self.total_rewards[i-100:i]), 3)\n",
    "                mean_rew_ = round(np.mean(self.total_rewards_[i-100:i]), 3)\n",
    "                pmax_pos = self.scaler.inverse_transform(np.array([[max_pos, 0]]))[0, 0]\n",
    "                print(f'Iteration {i}', \n",
    "                      f'Mean reward = {mean_rew}', \n",
    "                      f'max_pos = {pmax_pos}, mean_mod_rew = {mean_rew_}')\n",
    "                torch.save(self.policy.state_dict(),SAVEPATH+f'{mean_rew}_{i//100}')\n",
    "                \n",
    "                \n",
    "            state = ENV.reset()\n",
    "            state = self.scaler.transform(state.reshape(1, -1))\n",
    "            running_rew = 0\n",
    "            running_rew_ = 0\n",
    "            rewards = []\n",
    "            log_probas = []\n",
    "            unseen_prev = False\n",
    "            for j in range(STEPS):\n",
    "                \n",
    "                action, log_proba = self.act(state)\n",
    "                new_state, reward, done, info = ENV.step(action)\n",
    "                new_state = self.scaler.transform(new_state.reshape(1, -1))\n",
    "                \n",
    "                unseen = False\n",
    "                if new_state[0, 0] > max_pos:\n",
    "                    max_pos = new_state[0, 0]\n",
    "                    unseen = True\n",
    "                    \n",
    "                elif new_state[0, 0] < min_pos:\n",
    "                    min_pos = new_state[0, 0]\n",
    "                    unseen = True\n",
    "                    \n",
    "                running_rew += reward\n",
    "                reward = mod_reward(reward, state, new_state, unseen, unseen_prev)\n",
    "                running_rew_ += reward\n",
    "                state = new_state\n",
    "                rewards.append(reward)\n",
    "                log_probas.append(log_proba)\n",
    "                unseen_prev = unseen\n",
    "                \n",
    "                if done:\n",
    "                    break\n",
    "            self.learn_from_episode(rewards[:j+1], log_probas[:j+1]) \n",
    "            self.scheduler.step()\n",
    "            self.total_rewards.append(running_rew)\n",
    "            self.total_rewards_.append(running_rew_)\n",
    "        \n",
    "    def learn_from_episode(self, rewards, log_probas):\n",
    "        '''\n",
    "        Считаем returns из наград, собранных за эпизод\n",
    "        Получаем loss для policy сети, обновляем веса\n",
    "        '''\n",
    "        from itertools import accumulate\n",
    "        returns = list(accumulate(reversed(rewards), lambda x, y: GAMMA * x + y))[::-1]\n",
    "        returns = torch.tensor(returns).type('torch.FloatTensor')\n",
    "        self.opt.zero_grad()\n",
    "        loss_val = - (torch.squeeze(torch.stack(log_probas)) * returns).sum()\n",
    "        loss_val.backward()\n",
    "        self.opt.step()\n",
    "        \n",
    "    def test(self, N, plot=False):\n",
    "        \n",
    "        rewards = np.zeros(N)\n",
    "        fpos = np.zeros(N)\n",
    "        n_steps = np.zeros(N)\n",
    "        successes = 0\n",
    "        \n",
    "        for i in tqdm_notebook(range(N)):\n",
    "            state = ENV.reset()\n",
    "            running_reward = 0\n",
    "            for j in range(STEPS):\n",
    "                state = agent.scaler.transform(state.reshape(1, -1))\n",
    "                action, _ = agent.act(state)\n",
    "                ns, rew, done, _ = ENV.step(action)\n",
    "                running_reward += rew\n",
    "                state = ns\n",
    "                if done:\n",
    "                    successes += 1\n",
    "                    break\n",
    "            rewards[i] = running_reward\n",
    "            fpos[i] = state[0]\n",
    "            n_steps[i] = j\n",
    "        \n",
    "        if plot:\n",
    "            fig, axarr = plt.subplots(1, 3, figsize=[20, 10])\n",
    "            fig.suptitle(f'Performance test over {N} iterations')\n",
    "\n",
    "            axarr[0].hist(rewards, label=f'Mean reward = {round(np.mean(rewards), 3)}')\n",
    "            axarr[0].set_title('Rewards per episode')\n",
    "\n",
    "            axarr[1].hist(fpos, \n",
    "                          label = f'Successful episodes = {round(successes/N * 100, 3)} %')\n",
    "            axarr[1].set_title('Positions at the end of an episode')\n",
    "\n",
    "            axarr[2].hist(n_steps[fpos >= 0.5], \n",
    "                          label = f'Mean = {round(np.mean(n_steps[fpos>=0.5]), 3)}')\n",
    "            axarr[2].set_title('Number of iterations it took \\n to succeed')\n",
    "\n",
    "            for ax in axarr:\n",
    "                ax.legend()\n",
    "                ax.grid()\n",
    "        \n",
    "        return rewards, fpos, n_steps"
   ]
  },
  {
   "cell_type": "code",
   "execution_count": 2,
   "metadata": {},
   "outputs": [],
   "source": [
    "#Поменял с REINFORCE2 на REINFORCE3, чтобы случайно все не перезаписалось\n",
    "SAVEPATH = 'cont_models/REINFORCE3/RFMCcont_' "
   ]
  },
  {
   "cell_type": "code",
   "execution_count": 3,
   "metadata": {},
   "outputs": [
    {
     "data": {
      "text/plain": [
       "array([-0.57840555,  0.        ])"
      ]
     },
     "execution_count": 3,
     "metadata": {},
     "output_type": "execute_result"
    }
   ],
   "source": [
    "ENV = gym.make('MountainCarContinuous-v0')\n",
    "ENV.seed(SEED)\n",
    "ENV.reset()"
   ]
  },
  {
   "cell_type": "code",
   "execution_count": 4,
   "metadata": {},
   "outputs": [],
   "source": [
    "#Гиперпараметры\n",
    "GAMMA = 0.99\n",
    "REW_MULT = 600\n",
    "ALPHA = 5e-4\n",
    "N_EPOCHS = int(7e3)\n",
    "STEPS = 200"
   ]
  },
  {
   "cell_type": "code",
   "execution_count": 5,
   "metadata": {},
   "outputs": [],
   "source": [
    "agent = Agent([ENV.observation_space.shape[0],\n",
    "              128,\n",
    "              64])"
   ]
  },
  {
   "cell_type": "markdown",
   "metadata": {},
   "source": [
    "Тренируем агента, сходимости очень помогли низкий lr и линейное уменьшенение lr с каждой итерацией."
   ]
  },
  {
   "cell_type": "code",
   "execution_count": 6,
   "metadata": {},
   "outputs": [
    {
     "data": {
      "application/vnd.jupyter.widget-view+json": {
       "model_id": "b92d16d989e944a0868e5cbdb029e63f",
       "version_major": 2,
       "version_minor": 0
      },
      "text/plain": [
       "HBox(children=(IntProgress(value=0, max=7000), HTML(value='')))"
      ]
     },
     "metadata": {},
     "output_type": "display_data"
    },
    {
     "name": "stderr",
     "output_type": "stream",
     "text": [
      "/home/dmitry/anaconda3/lib/python3.6/site-packages/numpy/core/fromnumeric.py:2957: RuntimeWarning: Mean of empty slice.\n",
      "  out=out, **kwargs)\n",
      "/home/dmitry/anaconda3/lib/python3.6/site-packages/numpy/core/_methods.py:80: RuntimeWarning: invalid value encountered in double_scalars\n",
      "  ret = ret.dtype.type(ret / rcount)\n"
     ]
    },
    {
     "name": "stdout",
     "output_type": "stream",
     "text": [
      "Iteration 0 Mean reward = nan max_pos = -inf, mean_mod_rew = nan\n",
      "Iteration 100 Mean reward = -8.466 max_pos = 0.4702107220693058, mean_mod_rew = -54.84\n",
      "Iteration 200 Mean reward = 14.299 max_pos = 0.4876350878631862, mean_mod_rew = -26.284\n"
     ]
    },
    {
     "name": "stderr",
     "output_type": "stream",
     "text": [
      "/home/dmitry/anaconda3/lib/python3.6/site-packages/sklearn/utils/validation.py:475: DataConversionWarning: Data with input dtype object was converted to float64 by StandardScaler.\n",
      "  warnings.warn(msg, DataConversionWarning)\n"
     ]
    },
    {
     "name": "stdout",
     "output_type": "stream",
     "text": [
      "Iteration 300 Mean reward = 78.908 max_pos = 0.5014097809595275, mean_mod_rew = 173.342\n",
      "Iteration 400 Mean reward = 89.322 max_pos = 0.5084184093583898, mean_mod_rew = 315.486\n",
      "Iteration 500 Mean reward = 91.973 max_pos = 0.5084184093583898, mean_mod_rew = 338.51\n",
      "Iteration 600 Mean reward = 90.444 max_pos = 0.5084184093583898, mean_mod_rew = 372.315\n",
      "Iteration 700 Mean reward = 92.312 max_pos = 0.5102477387752101, mean_mod_rew = 446.515\n",
      "Iteration 800 Mean reward = 92.069 max_pos = 0.5106857664301354, mean_mod_rew = 430.604\n",
      "Iteration 900 Mean reward = 91.905 max_pos = 0.5106857664301354, mean_mod_rew = 251.767\n",
      "Iteration 1000 Mean reward = 92.538 max_pos = 0.5106857664301354, mean_mod_rew = 440.798\n",
      "Iteration 1100 Mean reward = 92.293 max_pos = 0.5106857664301354, mean_mod_rew = 478.605\n",
      "Iteration 1200 Mean reward = 92.12 max_pos = 0.5106857664301354, mean_mod_rew = 427.22\n",
      "Iteration 1300 Mean reward = 91.553 max_pos = 0.5106857664301354, mean_mod_rew = 275.035\n",
      "Iteration 1400 Mean reward = 92.182 max_pos = 0.5106857664301354, mean_mod_rew = 333.699\n",
      "Iteration 1500 Mean reward = 93.032 max_pos = 0.5106857664301354, mean_mod_rew = 434.158\n",
      "Iteration 1600 Mean reward = 92.01 max_pos = 0.5106857664301354, mean_mod_rew = 330.42\n",
      "Iteration 1700 Mean reward = 92.464 max_pos = 0.5106857664301354, mean_mod_rew = 412.276\n",
      "Iteration 1800 Mean reward = 91.906 max_pos = 0.5106857664301354, mean_mod_rew = 412.917\n",
      "Iteration 1900 Mean reward = 92.536 max_pos = 0.5106857664301354, mean_mod_rew = 454.632\n",
      "Iteration 2000 Mean reward = 92.531 max_pos = 0.5106857664301354, mean_mod_rew = 444.233\n",
      "Iteration 2100 Mean reward = 91.366 max_pos = 0.5106857664301354, mean_mod_rew = 352.706\n",
      "Iteration 2200 Mean reward = 91.774 max_pos = 0.5106857664301354, mean_mod_rew = 374.103\n",
      "Iteration 2300 Mean reward = 92.589 max_pos = 0.5106857664301354, mean_mod_rew = 405.804\n",
      "Iteration 2400 Mean reward = 92.48 max_pos = 0.5106857664301354, mean_mod_rew = 389.378\n",
      "Iteration 2500 Mean reward = 93.144 max_pos = 0.5106857664301354, mean_mod_rew = 406.86\n",
      "Iteration 2600 Mean reward = 93.371 max_pos = 0.5106857664301354, mean_mod_rew = 458.451\n",
      "Iteration 2700 Mean reward = 93.386 max_pos = 0.5106857664301354, mean_mod_rew = 456.332\n",
      "Iteration 2800 Mean reward = 93.575 max_pos = 0.5106857664301354, mean_mod_rew = 467.441\n",
      "Iteration 2900 Mean reward = 89.399 max_pos = 0.5106857664301354, mean_mod_rew = 459.311\n",
      "Iteration 3000 Mean reward = 47.246 max_pos = 0.5106857664301354, mean_mod_rew = 196.435\n",
      "Iteration 3100 Mean reward = 90.042 max_pos = 0.5106857664301354, mean_mod_rew = 457.106\n",
      "Iteration 3200 Mean reward = 92.853 max_pos = 0.5106857664301354, mean_mod_rew = 484.543\n",
      "Iteration 3300 Mean reward = 93.285 max_pos = 0.5106857664301354, mean_mod_rew = 517.182\n",
      "Iteration 3400 Mean reward = 93.298 max_pos = 0.5106857664301354, mean_mod_rew = 522.013\n",
      "Iteration 3500 Mean reward = 93.568 max_pos = 0.5106857664301354, mean_mod_rew = 491.27\n",
      "Iteration 3600 Mean reward = 93.458 max_pos = 0.5106857664301354, mean_mod_rew = 514.26\n",
      "Iteration 3700 Mean reward = 93.548 max_pos = 0.5106857664301354, mean_mod_rew = 502.659\n",
      "Iteration 3800 Mean reward = 93.558 max_pos = 0.5106857664301354, mean_mod_rew = 499.645\n",
      "Iteration 3900 Mean reward = 92.957 max_pos = 0.5106857664301354, mean_mod_rew = 525.713\n",
      "Iteration 4000 Mean reward = 93.005 max_pos = 0.5106857664301354, mean_mod_rew = 510.191\n",
      "Iteration 4100 Mean reward = 93.256 max_pos = 0.5106857664301354, mean_mod_rew = 498.072\n",
      "Iteration 4200 Mean reward = 93.032 max_pos = 0.5106857664301354, mean_mod_rew = 513.63\n",
      "Iteration 4300 Mean reward = 93.511 max_pos = 0.5106857664301354, mean_mod_rew = 493.935\n",
      "Iteration 4400 Mean reward = 93.493 max_pos = 0.5106857664301354, mean_mod_rew = 491.388\n",
      "Iteration 4500 Mean reward = 93.776 max_pos = 0.5106857664301354, mean_mod_rew = 477.793\n",
      "Iteration 4600 Mean reward = 93.607 max_pos = 0.5106857664301354, mean_mod_rew = 482.038\n",
      "Iteration 4700 Mean reward = 93.559 max_pos = 0.5106857664301354, mean_mod_rew = 488.388\n",
      "Iteration 4800 Mean reward = 93.572 max_pos = 0.5106857664301354, mean_mod_rew = 496.113\n",
      "Iteration 4900 Mean reward = 93.308 max_pos = 0.5106857664301354, mean_mod_rew = 495.865\n",
      "Iteration 5000 Mean reward = 93.58 max_pos = 0.5106857664301354, mean_mod_rew = 481.524\n",
      "Iteration 5100 Mean reward = 93.386 max_pos = 0.5106857664301354, mean_mod_rew = 497.087\n",
      "Iteration 5200 Mean reward = 93.274 max_pos = 0.5106857664301354, mean_mod_rew = 495.384\n",
      "Iteration 5300 Mean reward = 93.351 max_pos = 0.5106857664301354, mean_mod_rew = 493.15\n",
      "Iteration 5400 Mean reward = 93.614 max_pos = 0.5106857664301354, mean_mod_rew = 480.287\n",
      "Iteration 5500 Mean reward = 93.623 max_pos = 0.5106857664301354, mean_mod_rew = 489.43\n",
      "Iteration 5600 Mean reward = 93.652 max_pos = 0.5106857664301354, mean_mod_rew = 492.05\n",
      "Iteration 5700 Mean reward = 93.584 max_pos = 0.5106857664301354, mean_mod_rew = 487.572\n",
      "Iteration 5800 Mean reward = 93.523 max_pos = 0.5106857664301354, mean_mod_rew = 512.935\n",
      "Iteration 5900 Mean reward = 93.537 max_pos = 0.5106857664301354, mean_mod_rew = 498.379\n",
      "Iteration 6000 Mean reward = 93.584 max_pos = 0.5106857664301354, mean_mod_rew = 494.171\n",
      "Iteration 6100 Mean reward = 93.573 max_pos = 0.5106857664301354, mean_mod_rew = 507.802\n",
      "Iteration 6200 Mean reward = 93.541 max_pos = 0.5106857664301354, mean_mod_rew = 502.813\n",
      "Iteration 6300 Mean reward = 93.609 max_pos = 0.5106857664301354, mean_mod_rew = 497.763\n",
      "Iteration 6400 Mean reward = 93.587 max_pos = 0.5106857664301354, mean_mod_rew = 492.678\n",
      "Iteration 6500 Mean reward = 93.531 max_pos = 0.5106857664301354, mean_mod_rew = 495.118\n",
      "Iteration 6600 Mean reward = 93.513 max_pos = 0.5106857664301354, mean_mod_rew = 515.89\n",
      "Iteration 6700 Mean reward = 93.483 max_pos = 0.5106857664301354, mean_mod_rew = 510.104\n",
      "Iteration 6800 Mean reward = 93.487 max_pos = 0.5106857664301354, mean_mod_rew = 509.315\n",
      "Iteration 6900 Mean reward = 93.444 max_pos = 0.5106857664301354, mean_mod_rew = 512.279\n",
      "\n"
     ]
    }
   ],
   "source": [
    "agent.train(N_EPOCHS)"
   ]
  },
  {
   "cell_type": "markdown",
   "metadata": {},
   "source": [
    "Выберем сеть с лучшей средней наградой за сто итераций обучения:"
   ]
  },
  {
   "cell_type": "code",
   "execution_count": 7,
   "metadata": {},
   "outputs": [],
   "source": [
    "sdict = torch.load('cont_models/REINFORCE2/RFMCcont_93.776_45')\n",
    "agent.policy.load_state_dict(sdict)"
   ]
  },
  {
   "cell_type": "code",
   "execution_count": 8,
   "metadata": {},
   "outputs": [
    {
     "data": {
      "application/vnd.jupyter.widget-view+json": {
       "model_id": "84d57593c358474fb05eedd988722fa7",
       "version_major": 2,
       "version_minor": 0
      },
      "text/plain": [
       "HBox(children=(IntProgress(value=0, max=1000), HTML(value='')))"
      ]
     },
     "metadata": {},
     "output_type": "display_data"
    },
    {
     "name": "stderr",
     "output_type": "stream",
     "text": [
      "/home/dmitry/anaconda3/lib/python3.6/site-packages/sklearn/utils/validation.py:475: DataConversionWarning: Data with input dtype object was converted to float64 by StandardScaler.\n",
      "  warnings.warn(msg, DataConversionWarning)\n"
     ]
    },
    {
     "name": "stdout",
     "output_type": "stream",
     "text": [
      "\n"
     ]
    },
    {
     "data": {
      "image/png": "[encoded data removed]",
      "text/plain": [
       "<Figure size 1440x720 with 3 Axes>"
      ]
     },
     "metadata": {},
     "output_type": "display_data"
    }
   ],
   "source": [
    "_ = agent.test(1000, True)"
   ]
  },
  {
   "cell_type": "markdown",
   "metadata": {},
   "source": [
    "Сравним с последней сохраненной сетью:"
   ]
  },
  {
   "cell_type": "code",
   "execution_count": 9,
   "metadata": {},
   "outputs": [],
   "source": [
    "sdict = torch.load('cont_models/REINFORCE2/RFMCcont_93.444_69')\n",
    "agent.policy.load_state_dict(sdict)"
   ]
  },
  {
   "cell_type": "code",
   "execution_count": 10,
   "metadata": {},
   "outputs": [
    {
     "data": {
      "application/vnd.jupyter.widget-view+json": {
       "model_id": "06d6f0a1e8b34f34bb5ee96d6163c8c2",
       "version_major": 2,
       "version_minor": 0
      },
      "text/plain": [
       "HBox(children=(IntProgress(value=0, max=1000), HTML(value='')))"
      ]
     },
     "metadata": {},
     "output_type": "display_data"
    },
    {
     "name": "stdout",
     "output_type": "stream",
     "text": [
      "\n"
     ]
    },
    {
     "data": {
      "image/png": "[encoded data removed]",
      "text/plain": [
       "<Figure size 1440x720 with 3 Axes>"
      ]
     },
     "metadata": {},
     "output_type": "display_data"
    }
   ],
   "source": [
    "_ = agent.test(1000, True)"
   ]
  },
  {
   "cell_type": "markdown",
   "metadata": {},
   "source": [
    "Сеть научилась справляться с задачей быстрее, у награды стала меньше дисперсия, но среднее"
   ]
  },
  {
   "cell_type": "markdown",
   "metadata": {},
   "source": [
    "Можно визуализировать:"
   ]
  },
  {
   "cell_type": "code",
   "execution_count": 25,
   "metadata": {},
   "outputs": [
    {
     "name": "stdout",
     "output_type": "stream",
     "text": [
      "92.58216127216731\n"
     ]
    }
   ],
   "source": [
    "state = ENV.reset()\n",
    "tot_rew = 0\n",
    "for i in range(200):\n",
    "    state = agent.scaler.transform(state.reshape(1, -1))\n",
    "    act, _ = agent.act(state)\n",
    "    state, rew, done, _ = ENV.step(act)\n",
    "    ENV.render()    \n",
    "    time.sleep(0.1)\n",
    "    tot_rew += rew\n",
    "    if done:\n",
    "        break\n",
    "ENV.close()\n",
    "print(tot_rew)"
   ]
  },
  {
   "cell_type": "code",
   "execution_count": null,
   "metadata": {},
   "outputs": [],
   "source": []
  }
 ],
 "metadata": {
  "kernelspec": {
   "display_name": "Python 3",
   "language": "python",
   "name": "python3"
  },
  "language_info": {
   "codemirror_mode": {
    "name": "ipython",
    "version": 3
   },
   "file_extension": ".py",
   "mimetype": "text/x-python",
   "name": "python",
   "nbconvert_exporter": "python",
   "pygments_lexer": "ipython3",
   "version": "3.6.8"
  }
 },
 "nbformat": 4,
 "nbformat_minor": 2
}
