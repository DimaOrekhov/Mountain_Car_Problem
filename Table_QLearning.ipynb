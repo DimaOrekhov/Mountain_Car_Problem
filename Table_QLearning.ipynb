{
 "cells": [
  {
   "cell_type": "markdown",
   "metadata": {},
   "source": [
    "# Табличный Q-learning"
   ]
  },
  {
   "cell_type": "code",
   "execution_count": 13,
   "metadata": {},
   "outputs": [],
   "source": [
    "import numpy as np\n",
    "import gym\n",
    "import gc\n",
    "import time\n",
    "import matplotlib.pyplot as plt\n",
    "from tqdm import tqdm_notebook\n",
    "\n",
    "class QTable:\n",
    "    \n",
    "    def __init__(self, env, N):\n",
    "    \n",
    "        self.pos_low, self.vel_low = env.observation_space.low\n",
    "        self.pos_high, self.vel_high = env.observation_space.high\n",
    "        self.pos_dfreq = abs(self.pos_low - self.pos_high)/(N[0] - 1)\n",
    "        self.vel_dfreq = abs(self.vel_low - self.vel_high)/(N[1] - 1)\n",
    "        self.table = np.zeros((env.action_space.n, N[0], N[1]))\n",
    "        self.N = N[:]\n",
    "    \n",
    "    def __getitem__(self, idx):\n",
    "        '''\n",
    "        idx must have a form of (action, position, velocity)\n",
    "        '''\n",
    "        new_idx = (idx[0], \n",
    "                   int(abs(idx[1] - self.pos_low)//self.pos_dfreq), \n",
    "                   int(abs(idx[2] - self.vel_low)//self.vel_dfreq))\n",
    "        return self.table[new_idx]\n",
    "    \n",
    "    def __setitem__(self, idx, value):\n",
    "        new_idx = (idx[0], \n",
    "                   int(abs(idx[1] - self.pos_low)//self.pos_dfreq), \n",
    "                   int(abs(idx[2] - self.vel_low)//self.vel_dfreq))\n",
    "        self.table[new_idx] = value\n",
    "        \n",
    "    def argmax(self, state):\n",
    "        return np.argmax(self[:, state[0], state[1]])\n",
    "    \n",
    "    def max(self, state):\n",
    "        return np.max(self[:, state[0], state[1]])\n",
    "        \n",
    "    def test(self, env, n_epochs, max_steps=200):\n",
    "        self.rewards = []\n",
    "        self.n_steps = []\n",
    "        self.fpos = []\n",
    "        for i in range(n_epochs):\n",
    "            state = env.reset()\n",
    "            curr_reward = 0\n",
    "            for j in range(max_steps):\n",
    "                action = self.argmax(state)\n",
    "                new_state, reward, done, info = env.step(action)\n",
    "                curr_reward += reward\n",
    "                state = new_state\n",
    "                if state[0] >= 0.5:\n",
    "                    break\n",
    "            self.rewards.append(curr_reward)\n",
    "            self.n_steps.append(j)\n",
    "            self.fpos.append(state[0])\n",
    "        return self.rewards, self.n_steps, self.fpos\n",
    "    \n",
    "    def plot(self, env, n_epochs, max_steps = 300):\n",
    "        result = self.test(self, env, n_epochs, max_steps=max_steps) #Change later\n",
    "        fig, axarr = plt.subplots(1, 3, figsize=[20, 10])\n",
    "        \n",
    "        axarr[0].hist(result[0])\n",
    "        axarr[0].set_title('Episode rewards')\n",
    "        \n",
    "        axarr[1].hist(result[1])\n",
    "        axarr[1].set_title('Steps taken to complete episode')\n",
    "        \n",
    "        axarr[2].hist(result[2])\n",
    "        axarr[2].set_title('Final position')"
   ]
  },
  {
   "cell_type": "code",
   "execution_count": 2,
   "metadata": {},
   "outputs": [
    {
     "data": {
      "text/plain": [
       "array([-0.46976944,  0.        ])"
      ]
     },
     "execution_count": 2,
     "metadata": {},
     "output_type": "execute_result"
    }
   ],
   "source": [
    "env = gym.make('MountainCar-v0')\n",
    "env.reset()"
   ]
  },
  {
   "cell_type": "code",
   "execution_count": 148,
   "metadata": {},
   "outputs": [
    {
     "data": {
      "text/plain": [
       "Discrete(3)"
      ]
     },
     "execution_count": 148,
     "metadata": {},
     "output_type": "execute_result"
    }
   ],
   "source": [
    "'''\n",
    "0 - right\n",
    "1 - do nothing\n",
    "2 - left\n",
    "'''\n",
    "env.action_space"
   ]
  },
  {
   "cell_type": "code",
   "execution_count": 149,
   "metadata": {},
   "outputs": [
    {
     "name": "stdout",
     "output_type": "stream",
     "text": [
      "Low\n",
      "[-1.2  -0.07]\n",
      "High\n",
      "[0.6  0.07]\n"
     ]
    }
   ],
   "source": [
    "print('Low')\n",
    "print(env.observation_space.low)\n",
    "print('High')\n",
    "print(env.observation_space.high)"
   ]
  },
  {
   "cell_type": "code",
   "execution_count": 4,
   "metadata": {},
   "outputs": [],
   "source": [
    "#HYPERPARAMETERS\n",
    "disc_vec = [500, 100]\n",
    "\n",
    "n_epochs = 1000\n",
    "steps_per_episode = 200\n",
    "\n",
    "gamma = 0.95\n",
    "learning_rate = 0.005\n",
    "\n",
    "start_eps = 1\n",
    "end_eps = 0.005\n",
    "decay = 10e-5\n",
    "\n",
    "max_pos = -1.2"
   ]
  },
  {
   "cell_type": "code",
   "execution_count": 182,
   "metadata": {},
   "outputs": [],
   "source": [
    "qtab = QTable(env, disc_vec)"
   ]
  },
  {
   "cell_type": "code",
   "execution_count": 244,
   "metadata": {},
   "outputs": [
    {
     "data": {
      "application/vnd.jupyter.widget-view+json": {
       "model_id": "53cd337fd07748cf8a1a4131b373ad19",
       "version_major": 2,
       "version_minor": 0
      },
      "text/plain": [
       "HBox(children=(IntProgress(value=0, max=100000), HTML(value='')))"
      ]
     },
     "metadata": {},
     "output_type": "display_data"
    },
    {
     "name": "stdout",
     "output_type": "stream",
     "text": [
      "Iteration 1 -204.00433689927496 \n",
      "Max pos: 0.5270778407008053\n",
      "Iteration 1001 -187.85088923126764 \n",
      "Max pos: 0.5278456362842511\n",
      "Iteration 2001 -193.38835542788541 \n",
      "Max pos: 0.5278456362842511\n",
      "Iteration 3001 -197.3554310817686 \n",
      "Max pos: 0.5293064515955974\n",
      "Iteration 4001 -183.56547752101008 \n",
      "Max pos: 0.5293064515955974\n"
     ]
    },
    {
     "ename": "KeyboardInterrupt",
     "evalue": "",
     "output_type": "error",
     "traceback": [
      "\u001b[0;31m---------------------------------------------------------------------------\u001b[0m",
      "\u001b[0;31mKeyboardInterrupt\u001b[0m                         Traceback (most recent call last)",
      "\u001b[0;32m<ipython-input-244-e6246d64711a>\u001b[0m in \u001b[0;36m<module>\u001b[0;34m\u001b[0m\n\u001b[1;32m     32\u001b[0m         \u001b[0mqtab\u001b[0m\u001b[0;34m[\u001b[0m\u001b[0maction\u001b[0m\u001b[0;34m,\u001b[0m \u001b[0mstate\u001b[0m\u001b[0;34m[\u001b[0m\u001b[0;36m0\u001b[0m\u001b[0;34m]\u001b[0m\u001b[0;34m,\u001b[0m \u001b[0mstate\u001b[0m\u001b[0;34m[\u001b[0m\u001b[0;36m1\u001b[0m\u001b[0;34m]\u001b[0m\u001b[0;34m]\u001b[0m \u001b[0;34m=\u001b[0m \u001b[0mqtab\u001b[0m\u001b[0;34m[\u001b[0m\u001b[0maction\u001b[0m\u001b[0;34m,\u001b[0m \u001b[0mstate\u001b[0m\u001b[0;34m[\u001b[0m\u001b[0;36m0\u001b[0m\u001b[0;34m]\u001b[0m\u001b[0;34m,\u001b[0m \u001b[0mstate\u001b[0m\u001b[0;34m[\u001b[0m\u001b[0;36m1\u001b[0m\u001b[0;34m]\u001b[0m\u001b[0;34m]\u001b[0m \u001b[0;34m+\u001b[0m\u001b[0;31m\\\u001b[0m\u001b[0;34m\u001b[0m\u001b[0;34m\u001b[0m\u001b[0m\n\u001b[1;32m     33\u001b[0m                                             learning_rate * (reward + gamma * qtab.max(new_state) -\\\n\u001b[0;32m---> 34\u001b[0;31m                                                             qtab[action, state[0], state[1]])\n\u001b[0m\u001b[1;32m     35\u001b[0m \u001b[0;34m\u001b[0m\u001b[0m\n\u001b[1;32m     36\u001b[0m         \u001b[0mstate\u001b[0m \u001b[0;34m=\u001b[0m \u001b[0mnew_state\u001b[0m\u001b[0;34m\u001b[0m\u001b[0;34m\u001b[0m\u001b[0m\n",
      "\u001b[0;31mKeyboardInterrupt\u001b[0m: "
     ]
    }
   ],
   "source": [
    "rewards = []\n",
    "fpos = []\n",
    "curr_step = 0\n",
    "for i in tqdm_notebook(range(n_epochs)):\n",
    "    \n",
    "    if (i % 1000) == 1:\n",
    "        print(f\"Iteration {i}\", rewards[-1], f'\\nMax pos: {max_pos}')\n",
    "    \n",
    "    curr_reward = 0\n",
    "    state = env.reset()\n",
    "    \n",
    "    for _ in range(steps_per_episode):\n",
    "        \n",
    "        curr_eps = end_eps + (start_eps - end_eps) * np.exp(-decay * curr_step)\n",
    "        curr_step += 1\n",
    "        \n",
    "        if np.random.rand() > curr_eps:\n",
    "            action = qtab.argmax(state)\n",
    "        else:\n",
    "            action = np.random.randint(0, 3)\n",
    "            \n",
    "        new_state, reward, done, info = env.step(action)\n",
    "        \n",
    "        reward = new_state[0] - 0.5\n",
    "        \n",
    "        if new_state[0] > max_pos:\n",
    "            max_pos = new_state[0]\n",
    "        \n",
    "        if new_state[0] >= 0.5:\n",
    "            reward += 2\n",
    "        \n",
    "        qtab[action, state[0], state[1]] = qtab[action, state[0], state[1]] +\\\n",
    "                                            learning_rate * (reward + gamma * qtab.max(new_state) -\\\n",
    "                                                            qtab[action, state[0], state[1]])\n",
    "        \n",
    "        state = new_state\n",
    "        curr_reward += reward\n",
    "        \n",
    "        if done:\n",
    "            break\n",
    "        \n",
    "    fpos.append(state[0]) \n",
    "    rewards.append(curr_reward)"
   ]
  },
  {
   "cell_type": "code",
   "execution_count": 224,
   "metadata": {},
   "outputs": [
    {
     "data": {
      "text/plain": [
       "[<matplotlib.lines.Line2D at 0x7fd0f7bc8320>]"
      ]
     },
     "execution_count": 224,
     "metadata": {},
     "output_type": "execute_result"
    },
    {
     "data": {
      "image/png": "[encoded data removed]",
      "text/plain": [
       "<Figure size 432x288 with 1 Axes>"
      ]
     },
     "metadata": {},
     "output_type": "display_data"
    }
   ],
   "source": [
    "plt.plot(rewards)"
   ]
  },
  {
   "cell_type": "code",
   "execution_count": 231,
   "metadata": {},
   "outputs": [
    {
     "data": {
      "text/plain": [
       "[<matplotlib.lines.Line2D at 0x7fd0f83c51d0>]"
      ]
     },
     "execution_count": 231,
     "metadata": {},
     "output_type": "execute_result"
    },
    {
     "data": {
      "image/png": "[encoded data removed]",
      "text/plain": [
       "<Figure size 432x288 with 1 Axes>"
      ]
     },
     "metadata": {},
     "output_type": "display_data"
    }
   ],
   "source": [
    "plt.plot(fpos)"
   ]
  },
  {
   "cell_type": "code",
   "execution_count": 249,
   "metadata": {},
   "outputs": [],
   "source": [
    "hah = QTable.test(qtab, env, 300)"
   ]
  },
  {
   "cell_type": "code",
   "execution_count": 250,
   "metadata": {},
   "outputs": [
    {
     "data": {
      "image/png": "[encoded data removed]",
      "text/plain": [
       "<Figure size 432x288 with 1 Axes>"
      ]
     },
     "metadata": {},
     "output_type": "display_data"
    }
   ],
   "source": [
    "_ = plt.hist(qtab.table.flatten())"
   ]
  },
  {
   "cell_type": "code",
   "execution_count": 251,
   "metadata": {},
   "outputs": [
    {
     "data": {
      "text/plain": [
       "[<matplotlib.lines.Line2D at 0x7fd0ed8876d8>]"
      ]
     },
     "execution_count": 251,
     "metadata": {},
     "output_type": "execute_result"
    },
    {
     "data": {
      "image/png": "[encoded data removed]",
      "text/plain": [
       "<Figure size 432x288 with 1 Axes>"
      ]
     },
     "metadata": {},
     "output_type": "display_data"
    }
   ],
   "source": [
    "plt.plot(hah[0])"
   ]
  },
  {
   "cell_type": "code",
   "execution_count": 253,
   "metadata": {},
   "outputs": [
    {
     "data": {
      "text/plain": [
       "(array([  1.,   0.,   2.,   0.,   0.,   3.,   2.,   5.,   6., 181.]),\n",
       " array([191. , 191.8, 192.6, 193.4, 194.2, 195. , 195.8, 196.6, 197.4,\n",
       "        198.2, 199. ]),\n",
       " <a list of 10 Patch objects>)"
      ]
     },
     "execution_count": 253,
     "metadata": {},
     "output_type": "execute_result"
    },
    {
     "data": {
      "image/png": "[encoded data removed]",
      "text/plain": [
       "<Figure size 432x288 with 1 Axes>"
      ]
     },
     "metadata": {},
     "output_type": "display_data"
    }
   ],
   "source": [
    "plt.hist(hah[1])"
   ]
  },
  {
   "cell_type": "code",
   "execution_count": 254,
   "metadata": {},
   "outputs": [
    {
     "data": {
      "text/plain": [
       "(array([ 1.,  3.,  4., 10., 13., 26., 47., 22., 22., 52.]),\n",
       " array([-0.56606498, -0.45767685, -0.34928872, -0.24090059, -0.13251246,\n",
       "        -0.02412432,  0.08426381,  0.19265194,  0.30104007,  0.4094282 ,\n",
       "         0.51781633]),\n",
       " <a list of 10 Patch objects>)"
      ]
     },
     "execution_count": 254,
     "metadata": {},
     "output_type": "execute_result"
    },
    {
     "data": {
      "image/png": "[encoded data removed]",
      "text/plain": [
       "<Figure size 432x288 with 1 Axes>"
      ]
     },
     "metadata": {},
     "output_type": "display_data"
    }
   ],
   "source": [
    "plt.hist(hah[2])"
   ]
  },
  {
   "cell_type": "code",
   "execution_count": 10,
   "metadata": {},
   "outputs": [],
   "source": [
    "qtab = QTable(env, disc_vec)\n",
    "qtab.table = np.load('MY_QTAB.npy')"
   ]
  },
  {
   "cell_type": "code",
   "execution_count": 11,
   "metadata": {},
   "outputs": [
    {
     "name": "stdout",
     "output_type": "stream",
     "text": [
      "[0.51781633 0.02476672]\n"
     ]
    }
   ],
   "source": [
    "state = env.reset()\n",
    "for i in range(500):\n",
    "    act = qtab.argmax(state)\n",
    "    ns, _, done, _ = env.step(act)\n",
    "    env.render()\n",
    "    state = ns\n",
    "    time.sleep(0.05)\n",
    "    if state[0] >= 0.5:\n",
    "        print(state)\n",
    "        break"
   ]
  },
  {
   "cell_type": "code",
   "execution_count": 12,
   "metadata": {},
   "outputs": [],
   "source": [
    "env.close()"
   ]
  },
  {
   "cell_type": "code",
   "execution_count": 267,
   "metadata": {},
   "outputs": [
    {
     "data": {
      "text/plain": [
       "(array([0.6       , 0.00276073]), -1.0, True, {})"
      ]
     },
     "execution_count": 267,
     "metadata": {},
     "output_type": "execute_result"
    }
   ],
   "source": [
    "env.step(1)"
   ]
  }
 ],
 "metadata": {
  "kernelspec": {
   "display_name": "Python 3",
   "language": "python",
   "name": "python3"
  },
  "language_info": {
   "codemirror_mode": {
    "name": "ipython",
    "version": 3
   },
   "file_extension": ".py",
   "mimetype": "text/x-python",
   "name": "python",
   "nbconvert_exporter": "python",
   "pygments_lexer": "ipython3",
   "version": "3.6.8"
  }
 },
 "nbformat": 4,
 "nbformat_minor": 2
}
